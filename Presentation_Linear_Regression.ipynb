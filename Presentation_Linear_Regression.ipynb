{
  "nbformat": 4,
  "nbformat_minor": 0,
  "metadata": {
    "colab": {
      "name": "Presentation: Linear Regression.ipynb",
      "provenance": [],
      "authorship_tag": "ABX9TyPPyLZEtNE1tRf3CXlN3uVe",
      "include_colab_link": true
    },
    "kernelspec": {
      "name": "python3",
      "display_name": "Python 3"
    }
  },
  "cells": [
    {
      "cell_type": "markdown",
      "metadata": {
        "id": "view-in-github",
        "colab_type": "text"
      },
      "source": [
        "<a href=\"https://colab.research.google.com/github/GiorgioMorales/LinearRegression/blob/main/Presentation_Linear_Regression.ipynb\" target=\"_parent\"><img src=\"https://colab.research.google.com/assets/colab-badge.svg\" alt=\"Open In Colab\"/></a>"
      ]
    },
    {
      "cell_type": "markdown",
      "metadata": {
        "id": "H08LJL9hcSzx"
      },
      "source": [
        ">CSCI 550: Class Presentation.                                 \n",
        "Kyle Webster and Giorgio Morales\n",
        "\n",
        "# Linear Regression\n",
        "\n",
        "## 1. Introduction\n",
        "\n",
        "Given a set of $n$ **independet variables**: $X_1, X_2, ..., X_n$ and a real-valued **dependant variable** $Y$ (or response variable), the goal of the linear regression problem is to find a **regression function** $f$ such that:\n",
        "\n",
        "> $Y = f(X_1, X_2, ..., X_n) + \\epsilon = f(X) + \\epsilon$\n",
        "\n",
        "where $\\epsilon$ is the error term, which is independent of $X$, and accounts for the uncertainty inherent in $Y$."
      ]
    },
    {
      "cell_type": "markdown",
      "metadata": {
        "id": "qogTKbXZhz12"
      },
      "source": [
        "## 2. Linear Regression Model\n",
        "\n",
        "The regression function $f$ can be expressed based on the multivariate random variable $X$ and its parameters as follows:\n",
        "\n",
        "> $ f(X) = \\beta + \\omega_1X_1 + \\omega_2X_2 + ... + \\omega_nX_n = \\beta + \\sum_{i=1}^{n}\\omega_iX_i = \\beta + \\omega^T X $\n",
        "\n",
        "where:\n",
        "\n",
        "* $\\beta$: bias.\n",
        "* $\\omega_i$: regression coefficient or weight for $X_i$.\n",
        "* $\\omega = (\\omega_1, \\omega_2, ..., \\omega_3)^T$ .\n",
        "\n",
        "**Note:**\n",
        "* If $n=1$, $f$ represents a line with slope $\\omega_i$ and offset $\\beta$\n",
        "* In general: $f$ represents a hyperplane, $\\omega$ is the vector notmal to the hyperplane and $\\beta$ is the offset.\n",
        "\n",
        "><div>\n",
        "<img src=\"https://www.cs.montana.edu/~moralesluna/images/linear/plane.jpg\" width=\"500\"/>\n",
        "</div>\n",
        "\n",
        "In practice, the parameters $\\beta$ and $\\omega$ are **unkown**, so the idea is to estimate them from a training set $D$ consisting of $N$ points $x_i \\in \\mathbb{R}^n$. Let $b$ denote the estimated value of the bias $\\beta$, and $\\texttt{w}=(w_1, w_2, ..., w_n)^T$ denote the estimated value of the vector $\\omega$; then, the estimated dependant variable given a test point $\\texttt{x}=(x_1, x_2, ..., x_n)^T$ can be written as:\n",
        "\n",
        "> $\\hat{y} = b + w_1x_1 + w_2x_2 + ... + w_nx_n = \\beta + \\texttt{w}^T \\texttt{x}$"
      ]
    },
    {
      "cell_type": "code",
      "metadata": {
        "id": "YLb1AZ50Ecv7"
      },
      "source": [
        ""
      ],
      "execution_count": null,
      "outputs": []
    },
    {
      "cell_type": "markdown",
      "metadata": {
        "id": "jx_Vz4I-uVnp"
      },
      "source": [
        "## 2 Bivariate Regression\n",
        "\n",
        "Let's consider the linear regression problem with only one attribute; i.e., the dataset $D$ consists of points with only one dimension:\n",
        "\n",
        "> $\\hat{y}_i = f(x_i) = b + w \\cdot x_i$  \n",
        "\n",
        "The *residual error* between the estimated value $\\hat{y}_i$ and the actual observed response $y_i$ for of the $i$-th data point of $D$ is expressed as:\n",
        "\n",
        "> $\\epsilon_i = y_i - \\hat{y}_i$\n",
        "\n",
        "Since the objective is to minimize the error of our estimation, we can use the *least squares* method to **minimize the sum of aqueared errors**:\n",
        "\n",
        "> $\\min_{b, w} SSE = \\sum_{i=1}^n \\epsilon_i^2 = \\sum_{i=1}^n (y_i - \\hat{y}_i)^2 = \\sum_{i=1}^n (y_i - b - w\\cdot x_i)^2$\n",
        "\n",
        "In order to solve this objective, we differentiate it w.r.t $b$ and $w$, and set the result to 0:\n",
        "\n",
        "* w.r.t. $b$:\n",
        "\n",
        ">> $\\frac{\\partial SSE}{\\partial b} = 2 \\sum_{i=1}^n (y_i - b - w\\cdot x_i)\\cdot 1 = 0$\n",
        "\n",
        ">> $b = \\frac{1}{n} \\sum_{i=1}^n y_i - w \\frac{1}{n} \\sum_{i=1}^n x_i$\n",
        "\n",
        ">> $b = \\mu_Y - w \\cdot \\mu_X$\n",
        "\n",
        "* w.r.t. $w$:\n",
        "\n",
        ">> $\\frac{\\partial SSE}{\\partial b} = 2 \\sum_{i=1}^n (y_i - b - w\\cdot x_i)\\cdot x_i = 0$\n",
        "\n",
        ">> $\\sum_{i=1}^n x_iy_i - (\\mu_Y \\sum_{i=1}^n x_i - w \\cdot \\mu_X \\sum_{i=1}^n x_i) - w \\sum_{i=1}^n x_i^2 = 0$\n",
        "\n",
        ">> $w = \\frac{\\sum_{i=1}^n (x_i - \\mu_X)(y_i - \\mu_Y)}{\\sum_{i=1}^n(x_i - \\mu_X)^2} = \\frac{\\sigma_{XY}}{\\sigma_{X}^2} $\n",
        "\n",
        "where $\\sigma_{XY}$ is the covariance between $X$ and $Y$, and $\\sigma_{X}^2$ is the variance of $X$.\n"
      ]
    },
    {
      "cell_type": "code",
      "metadata": {
        "id": "D2nlupklEmea"
      },
      "source": [
        ""
      ],
      "execution_count": null,
      "outputs": []
    },
    {
      "cell_type": "markdown",
      "metadata": {
        "id": "ReVAGdrDD9WA"
      },
      "source": [
        "## 2.1. Univariate Regression Example\n",
        "\n",
        "Since we just found a way to estimate the coefficients $w$ and $b$ for the univariate regression problem, let's get our hands dirty with an example. \n",
        "\n",
        "For this, we will use the **Iris dataset**. Specifically, we will try to estimate the width of the petal ($Y$) given only the length of the petal ($X$).\n",
        "\n",
        "First, let's load the dataset:"
      ]
    },
    {
      "cell_type": "code",
      "metadata": {
        "id": "Z2SKrGwWcTwo",
        "outputId": "fcb21b32-e425-4d91-d78f-c29393325fde",
        "colab": {
          "base_uri": "https://localhost:8080/",
          "height": 195
        }
      },
      "source": [
        "import seaborn as sns\n",
        "iris = sns.load_dataset('iris')\n",
        "iris.head()"
      ],
      "execution_count": null,
      "outputs": [
        {
          "output_type": "execute_result",
          "data": {
            "text/html": [
              "<div>\n",
              "<style scoped>\n",
              "    .dataframe tbody tr th:only-of-type {\n",
              "        vertical-align: middle;\n",
              "    }\n",
              "\n",
              "    .dataframe tbody tr th {\n",
              "        vertical-align: top;\n",
              "    }\n",
              "\n",
              "    .dataframe thead th {\n",
              "        text-align: right;\n",
              "    }\n",
              "</style>\n",
              "<table border=\"1\" class=\"dataframe\">\n",
              "  <thead>\n",
              "    <tr style=\"text-align: right;\">\n",
              "      <th></th>\n",
              "      <th>sepal_length</th>\n",
              "      <th>sepal_width</th>\n",
              "      <th>petal_length</th>\n",
              "      <th>petal_width</th>\n",
              "      <th>species</th>\n",
              "    </tr>\n",
              "  </thead>\n",
              "  <tbody>\n",
              "    <tr>\n",
              "      <th>0</th>\n",
              "      <td>5.1</td>\n",
              "      <td>3.5</td>\n",
              "      <td>1.4</td>\n",
              "      <td>0.2</td>\n",
              "      <td>setosa</td>\n",
              "    </tr>\n",
              "    <tr>\n",
              "      <th>1</th>\n",
              "      <td>4.9</td>\n",
              "      <td>3.0</td>\n",
              "      <td>1.4</td>\n",
              "      <td>0.2</td>\n",
              "      <td>setosa</td>\n",
              "    </tr>\n",
              "    <tr>\n",
              "      <th>2</th>\n",
              "      <td>4.7</td>\n",
              "      <td>3.2</td>\n",
              "      <td>1.3</td>\n",
              "      <td>0.2</td>\n",
              "      <td>setosa</td>\n",
              "    </tr>\n",
              "    <tr>\n",
              "      <th>3</th>\n",
              "      <td>4.6</td>\n",
              "      <td>3.1</td>\n",
              "      <td>1.5</td>\n",
              "      <td>0.2</td>\n",
              "      <td>setosa</td>\n",
              "    </tr>\n",
              "    <tr>\n",
              "      <th>4</th>\n",
              "      <td>5.0</td>\n",
              "      <td>3.6</td>\n",
              "      <td>1.4</td>\n",
              "      <td>0.2</td>\n",
              "      <td>setosa</td>\n",
              "    </tr>\n",
              "  </tbody>\n",
              "</table>\n",
              "</div>"
            ],
            "text/plain": [
              "   sepal_length  sepal_width  petal_length  petal_width species\n",
              "0           5.1          3.5           1.4          0.2  setosa\n",
              "1           4.9          3.0           1.4          0.2  setosa\n",
              "2           4.7          3.2           1.3          0.2  setosa\n",
              "3           4.6          3.1           1.5          0.2  setosa\n",
              "4           5.0          3.6           1.4          0.2  setosa"
            ]
          },
          "metadata": {
            "tags": []
          },
          "execution_count": 1
        }
      ]
    },
    {
      "cell_type": "markdown",
      "metadata": {
        "id": "O6BFdDfaHDpG"
      },
      "source": [
        "Now, we will separate the $X$ and $Y$ variables:"
      ]
    },
    {
      "cell_type": "code",
      "metadata": {
        "id": "nv1-dNPaG8GD",
        "outputId": "92a506ae-d317-4aa6-9b7b-dc07c4a75932",
        "colab": {
          "base_uri": "https://localhost:8080/"
        }
      },
      "source": [
        "X = iris['petal_length']\n",
        "Y = iris['petal_width']\n",
        "\n",
        "print('Shape of the independent variable: ' + str(X.shape))\n",
        "print('Shape of the dependant variable: ' + str(Y.shape))"
      ],
      "execution_count": null,
      "outputs": [
        {
          "output_type": "stream",
          "text": [
            "Shape of the independent variable: (150,)\n",
            "Shape of the dependant variable: (150,)\n"
          ],
          "name": "stdout"
        }
      ]
    },
    {
      "cell_type": "markdown",
      "metadata": {
        "id": "JpgVgEGKIUZz"
      },
      "source": [
        "For the sake of visualization, let's plot this set of points:"
      ]
    },
    {
      "cell_type": "code",
      "metadata": {
        "id": "mar9fharIaU4",
        "outputId": "b6a7fb6f-8b10-4928-bb71-65b3d17434f7",
        "colab": {
          "base_uri": "https://localhost:8080/",
          "height": 296
        }
      },
      "source": [
        "import matplotlib.pyplot as plt\n",
        "\n",
        "plt.scatter(X, Y)\n",
        "plt.xlabel(\"Petal length\")\n",
        "plt.ylabel(\"Petal width\")"
      ],
      "execution_count": null,
      "outputs": [
        {
          "output_type": "execute_result",
          "data": {
            "text/plain": [
              "Text(0, 0.5, 'Petal width')"
            ]
          },
          "metadata": {
            "tags": []
          },
          "execution_count": 3
        },
        {
          "output_type": "display_data",
          "data": {
            "image/png": "[encoded data removed]",
            "text/plain": [
              "<Figure size 432x288 with 1 Axes>"
            ]
          },
          "metadata": {
            "tags": [],
            "needs_background": "light"
          }
        }
      ]
    },
    {
      "cell_type": "markdown",
      "metadata": {
        "id": "zjI9RbxeJfLy"
      },
      "source": [
        "><div>\n",
        "<img src=\"https://www.cs.montana.edu/~moralesluna/images/linear/irispetal.png\" width=\"500\"/>\n",
        "</div>"
      ]
    },
    {
      "cell_type": "markdown",
      "metadata": {
        "id": "TcmcaJ7RKJDi"
      },
      "source": [
        "Now, let{s use the expressions for $w$ and $b$ that we found after least squares minimizatoin:\n",
        "\n",
        "> $b = \\mu_Y - w \\cdot \\mu_X$\n",
        "\n",
        "> $w = \\frac{\\sigma_{XY}}{\\sigma_{X}^2} $"
      ]
    },
    {
      "cell_type": "code",
      "metadata": {
        "id": "5WPXLVOaLLmN",
        "outputId": "2cded14a-d1de-4058-dd88-d1c4df32f9d4",
        "colab": {
          "base_uri": "https://localhost:8080/"
        }
      },
      "source": [
        "import numpy as np\n",
        "\n",
        "# Get number of samples\n",
        "N = len(X)\n",
        "\n",
        "# Calculate means\n",
        "u_x = np.mean(X)\n",
        "u_y = np.mean(Y)\n",
        "\n",
        "# Calculate variance an covariance\n",
        "varx = np.var(X)\n",
        "varxy = np.sum((X - u_x) * (Y - u_y)) / N\n",
        "\n",
        "# Calculate parameters\n",
        "w = varxy / varx\n",
        "b = u_y - w * u_x\n",
        "\n",
        "print(\"Parameter w = \" + str(w))\n",
        "print(\"Parameter b = \" + str(b))  "
      ],
      "execution_count": null,
      "outputs": [
        {
          "output_type": "stream",
          "text": [
            "Parameter w = 0.41575541635241137\n",
            "Parameter b = -0.3630755213190291\n"
          ],
          "name": "stdout"
        }
      ]
    },
    {
      "cell_type": "markdown",
      "metadata": {
        "id": "goSprwZVXuvl"
      },
      "source": [
        "Once that we obtained our estimated parameters, we can take any test point and estimate its corresponding response variable. Thus, we will plot the estimated petal widths for a range of petal length values between 0 and 8."
      ]
    },
    {
      "cell_type": "code",
      "metadata": {
        "id": "dhQkiR8uY2wd",
        "outputId": "4a6db0cb-8dab-49cc-e164-f685e6304ab4",
        "colab": {
          "base_uri": "https://localhost:8080/",
          "height": 296
        }
      },
      "source": [
        "# Range of petal lengths\n",
        "xs = range(0, 8)\n",
        "\n",
        "# Apply the linear regression model\n",
        "ys = w * xs + b\n",
        "\n",
        "# Plot the regression function\n",
        "plt.scatter(X, Y)\n",
        "plt.plot(xs, ys)\n",
        "plt.xlabel(\"Petal length\")\n",
        "plt.ylabel(\"Petal width\")\n",
        "\n"
      ],
      "execution_count": null,
      "outputs": [
        {
          "output_type": "execute_result",
          "data": {
            "text/plain": [
              "Text(0, 0.5, 'Petal width')"
            ]
          },
          "metadata": {
            "tags": []
          },
          "execution_count": 5
        },
        {
          "output_type": "display_data",
          "data": {
            "image/png": "[encoded data removed]",
            "text/plain": [
              "<Figure size 432x288 with 1 Axes>"
            ]
          },
          "metadata": {
            "tags": [],
            "needs_background": "light"
          }
        }
      ]
    },
    {
      "cell_type": "markdown",
      "metadata": {
        "id": "cconl6_JeRXi"
      },
      "source": [
        "><div>\n",
        "<img src=\"https://www.cs.montana.edu/~moralesluna/images/linear/univariate.png\" width=\"500\"/>\n",
        "</div>"
      ]
    },
    {
      "cell_type": "markdown",
      "metadata": {
        "id": "zEv7l_RRgPnT"
      },
      "source": [
        "## 3 Multiple Regression \n",
        "\n",
        "Now we consider the case where each data point of the training set $D$ contains $n$ attributes: \n",
        "\n",
        "> $\\hat{y}_i = b + w_1x_{i1} + w_2x_{i2} + ... + w_nx_{in} = \\beta + \\texttt{w}^T \\texttt{x}_i$\n",
        "\n",
        "Let $b=w_0$ and $x_{i0}=1$, then:\n",
        "\n",
        "> $\\hat{y}_i =  w_0x_{i0} + w_1x_{i1} + w_2x_{i2} + ... + w_nx_{in} = \\tilde{\\texttt{w}}^T \\tilde{\\texttt{x}}_i$\n",
        "\n",
        "Since $i = 1, 2, 3, ..., N$, we can summarize the $N$ equations in just one:\n",
        "\n",
        "> $\\hat{Y} = \\tilde{D} \\tilde{\\texttt{w}}$,\n",
        "\n",
        "where $\\hat{Y}=(\\hat{y_1}, \\hat{y_2}, ..., \\hat{y_n})^T$ and $\\tilde{D}$ is the augmented training data sample that includes the artificial constant attribute $X_0$.\n",
        "\n",
        "**Goal**: To find the best hyperplane defined by $\\tilde{\\texttt{w}}$ that minimizes the sum of squared errors:\n",
        "\n",
        "> $\\min_{\\tilde{\\texttt{w}}} SSE = \\sum_{i=1}^n \\epsilon_i^2 = ||Y - \\hat{Y}||^2$\n",
        "\n",
        "> $=YY^T - 2Y\\hat{Y} + \\hat{Y}^T\\hat{Y}$\n",
        "\n",
        "> $=YY^T - 2\\tilde{\\texttt{w}}(\\tilde{D}^TY) + \\tilde{\\texttt{w}}^T(\\tilde{D}^T\\tilde{D})\\tilde{\\texttt{w}}$.\n",
        "\n",
        "Similar to what we have done previously, we need to differentiate $SSE$ w.r.t $\\tilde{\\texttt{w}}$ and set the result to 0:\n",
        "\n",
        "> $\\frac{\\partial}{\\partial \\tilde{\\texttt{w}}}SSE = - 2(\\tilde{D}^TY) + 2(\\tilde{D}^T\\tilde{D})\\tilde{\\texttt{w}}= 0$\n",
        "\n",
        "> $\\Rightarrow \\tilde{\\texttt{w}}= (\\tilde{D}^T\\tilde{D})^{-1}\\tilde{D}^TY$\n",
        "\n",
        "Let's replace $\\tilde{\\texttt{w}}$ in $\\hat{Y} = \\tilde{D} \\tilde{\\texttt{w}}$:\n",
        "\n",
        "> $\\hat{Y} = \\tilde{D}(\\tilde{D}^T\\tilde{D})^{-1}\\tilde{D}^TY = H Y$\n"
      ]
    },
    {
      "cell_type": "code",
      "metadata": {
        "id": "LoxFldTVh4vh"
      },
      "source": [
        ""
      ],
      "execution_count": null,
      "outputs": []
    },
    {
      "cell_type": "markdown",
      "metadata": {
        "id": "O2NsSv7_PZ1S"
      },
      "source": [
        "## 3.1. Multivariate Regression: Example\n",
        "\n",
        "This time we will use two independent variables from the Iris dataset: Sepal length ($X_1$) and Petal length ($X_2$). Using these variables we will estimate the response variable Petal width ($Y$)."
      ]
    },
    {
      "cell_type": "code",
      "metadata": {
        "id": "-HaO9EH0QfBj",
        "outputId": "cd29e384-5e55-4107-edc2-16b4334a77fd",
        "colab": {
          "base_uri": "https://localhost:8080/",
          "height": 315
        }
      },
      "source": [
        "X1 = iris['sepal_length']\n",
        "X2 = iris['petal_length']\n",
        "Y = iris['petal_width']\n",
        "\n",
        "print('Shape of the first independent variable: ' + str(X1.shape))\n",
        "print('Shape of the second independent variable: ' + str(X2.shape))\n",
        "print('Shape of the dependant variable: ' + str(Y.shape))\n",
        "\n",
        "# Plot the variables\n",
        "fig = plt.figure()\n",
        "ax = plt.axes(projection='3d')\n",
        "ax.scatter3D(X1, X2, Y)"
      ],
      "execution_count": null,
      "outputs": [
        {
          "output_type": "stream",
          "text": [
            "Shape of the first independent variable: (150,)\n",
            "Shape of the second independent variable: (150,)\n",
            "Shape of the dependant variable: (150,)\n"
          ],
          "name": "stdout"
        },
        {
          "output_type": "execute_result",
          "data": {
            "text/plain": [
              "<mpl_toolkits.mplot3d.art3d.Path3DCollection at 0x7f5b109c37f0>"
            ]
          },
          "metadata": {
            "tags": []
          },
          "execution_count": 6
        },
        {
          "output_type": "display_data",
          "data": {
            "image/png": "[encoded data removed]",
            "text/plain": [
              "<Figure size 432x288 with 1 Axes>"
            ]
          },
          "metadata": {
            "tags": [],
            "needs_background": "light"
          }
        }
      ]
    },
    {
      "cell_type": "markdown",
      "metadata": {
        "id": "c3MKsWkCiGdE"
      },
      "source": [
        "><div>\n",
        "<img src=\"https://www.cs.montana.edu/~moralesluna/images/linear/irisgif.gif\" width=\"500\"/>\n",
        "</div>"
      ]
    },
    {
      "cell_type": "markdown",
      "metadata": {
        "id": "kmR5ldmSQ7Mn"
      },
      "source": [
        "We can construct now the augmented matrix $\\tilde{D}$ including the extra attribute $X_0$ as a column of $1$s:"
      ]
    },
    {
      "cell_type": "code",
      "metadata": {
        "id": "9j6ijQqDRU1P",
        "outputId": "3a67f5b9-40b6-43f1-ea34-45fa9e1d03fe",
        "colab": {
          "base_uri": "https://localhost:8080/"
        }
      },
      "source": [
        "# Create column of ones\n",
        "Ones = np.ones((len(X1),))\n",
        "# Stack the three columns to form Dtilde\n",
        "Dt = np.vstack((Ones, X1, X2)).T\n",
        "print(\"Showing the first 5 points of Dt:\")\n",
        "print(Dt[:5])"
      ],
      "execution_count": null,
      "outputs": [
        {
          "output_type": "stream",
          "text": [
            "Showing the first 5 points of Dt:\n",
            "[[1.  5.1 1.4]\n",
            " [1.  4.9 1.4]\n",
            " [1.  4.7 1.3]\n",
            " [1.  4.6 1.5]\n",
            " [1.  5.  1.4]]\n"
          ],
          "name": "stdout"
        }
      ]
    },
    {
      "cell_type": "markdown",
      "metadata": {
        "id": "0EvothJuXCpA"
      },
      "source": [
        "Having prepared our dataset, we can estimate the parameter vector using the equation: $\\tilde{\\texttt{w}}= (\\tilde{D}^T\\tilde{D})^{-1}\\tilde{D}^TY$ "
      ]
    },
    {
      "cell_type": "code",
      "metadata": {
        "id": "5TCgZo36X2SE",
        "outputId": "747e483b-40b2-4c20-92a8-83f3dcf6968d",
        "colab": {
          "base_uri": "https://localhost:8080/"
        }
      },
      "source": [
        "# Calculate the regression coefficients\n",
        "wt =  np.linalg.inv(Dt.T.dot(Dt)).dot(Dt.T.dot(Y))\n",
        "\n",
        "print(\"Regression coefficients:\")\n",
        "print(wt)\n",
        "\n",
        "# Print estimated response variable\n",
        "Yt = Dt.dot(wt)\n",
        "print(\"Printing the first 10 estimated values of Yt: \")\n",
        "print(Yt[:10])"
      ],
      "execution_count": null,
      "outputs": [
        {
          "output_type": "stream",
          "text": [
            "Regression coefficients:\n",
            "[-0.00899597 -0.08221782  0.44937611]\n",
            "Printing the first 10 estimated values of Yt: \n",
            "[0.2008197  0.21726327 0.18876922 0.28686622 0.20904148 0.31096719\n",
            " 0.24192861 0.25397909 0.25837218 0.26220088]\n"
          ],
          "name": "stdout"
        }
      ]
    },
    {
      "cell_type": "markdown",
      "metadata": {
        "id": "DTt7daLfbIPZ"
      },
      "source": [
        "Then, the fitted hyperplane can be expressed as:\n",
        "\n",
        "> $\\hat{Y} = -0.0089 - 0.082 X_1 + 0.449 X_2$\n",
        "\n",
        "Finally, let's plot the regression function:"
      ]
    },
    {
      "cell_type": "code",
      "metadata": {
        "id": "LtnmBYemibtL",
        "outputId": "bb1adbd8-d7b9-4a21-ea08-bd12cd67f680",
        "colab": {
          "base_uri": "https://localhost:8080/",
          "height": 248
        }
      },
      "source": [
        "# Range of petal and sepal lengths\n",
        "X1s, X2s = np.meshgrid(range(10), range(10))\n",
        "\n",
        "# Apply the linear regression model\n",
        "ys = -0.0089 - 0.082 * X1s + 0.449 * X2s\n",
        "\n",
        "# Plot the dataset and the hyperplane\n",
        "fig = plt.figure()\n",
        "ax = plt.axes(projection='3d')\n",
        "ax.scatter3D(X1, X2, Y)\n",
        "ax.plot_surface(X1s, X2s, ys, alpha=0.3)\n",
        "ax.view_init(10,10)"
      ],
      "execution_count": null,
      "outputs": [
        {
          "output_type": "display_data",
          "data": {
            "image/png": "[encoded data removed]",
            "text/plain": [
              "<Figure size 432x288 with 1 Axes>"
            ]
          },
          "metadata": {
            "tags": [],
            "needs_background": "light"
          }
        }
      ]
    },
    {
      "cell_type": "markdown",
      "metadata": {
        "id": "ASeE3MGVqXfk"
      },
      "source": [
        "><div>\n",
        "<img src=\"https://www.cs.montana.edu/~moralesluna/images/linear/fit3D.gif\" width=\"500\"/>\n",
        "</div>"
      ]
    },
    {
      "cell_type": "markdown",
      "metadata": {
        "id": "2xAzU0u5CLQ6"
      },
      "source": [
        "## 3.2. Geometry of Multiple Regression\n",
        "\n",
        "What is the column space of a matrix?\n",
        "\n",
        "Take the matrix $A = \\begin{bmatrix}\n",
        "1 & 2 \\\\\n",
        "0 & 3 \\\\\n",
        "5 & 6 \\\\\n",
        "\\end{bmatrix}$. The column space of A is defined as the set of all possible linear combinations of its column vectors; that is, $col(A) = c_1 \\begin{bmatrix}\n",
        "1\\\\\n",
        "0\\\\\n",
        "5\\\\\n",
        "\\end{bmatrix} + c_2 \\begin{bmatrix}\n",
        "2\\\\\n",
        "3\\\\\n",
        "6\\\\\n",
        "\\end{bmatrix}$, where $c_1$ and $c_2$ are scalars.\n",
        "\n",
        "\n",
        "Let's look at our linear regression model once again:\n",
        "\n",
        "> $\\hat{Y} = w_0X_0 + w_1X_1 + ... + w_nX_n $.\n",
        "\n",
        "Then, we can say that the predicted vector $\\hat{Y}$ lies in the column space of the augmented dataset $\\tilde{D} = \\begin{bmatrix}\n",
        "| & | & ... & |\\\\\n",
        "X_0 & X_1 & ... & X_n\\\\\n",
        "| & | & ... & |\\\\\n",
        "\\end{bmatrix}$\n",
        "\n",
        "><div>\n",
        "<img src=\"https://www.cs.montana.edu/~moralesluna/images/linear/geometry.jpg\" width=\"400\"/>\n",
        "</div>\n",
        "\n",
        "We want to minimize the residual vector error $\\epsilon = Y - \\hat{Y}$, which is orthogonal to the column space $col(\\tilde{D})$. Note that $\\epsilon$ is also orthogonal to each of the attributes $X_i$, so:\n",
        "\n",
        "> $X_i^T\\epsilon = 0$\n",
        "\n",
        "> $X_i^T(Y- \\hat{Y}) = 0$\n",
        "\n",
        "> $w_0X_i^TX_0 + w_1X_i^TX_1 + ... + w_nX_i^TX_n = X_i^TY$\n",
        "\n",
        "This is called the **normal equation**. Given that we have ($d+1$) independant variables and ($d+1$) unknown weights, the problem can be solved.\n",
        "\n",
        "We can put all the normal equations in a matrix form:\n",
        "\n",
        "> $\\begin{bmatrix}\n",
        "X_0^TX_0 & X_0^TX_1 & ... & X_0^TX_n\\\\\n",
        "X_1^TX_0 & X_1^TX_1 & ... & X_1^TX_n\\\\\n",
        "... & ... & ... & ...\\\\\n",
        "X_n^TX_0 & X_n^TX_1 & ... & X_n^TX_n\\\\\n",
        "\\end{bmatrix} \\tilde{\\texttt{w}} = \\tilde{D}^TY$\n",
        "\n",
        "> $(\\tilde{D}^T\\tilde{D})\\tilde{\\texttt{w}} =\\tilde{D}^TY $\n",
        "\n",
        ">> $\\Rightarrow \\tilde{\\texttt{w}}= (\\tilde{D}^T\\tilde{D})^{-1}\\tilde{D}^TY$"
      ]
    },
    {
      "cell_type": "code",
      "metadata": {
        "id": "1RkdFIUIA8Be"
      },
      "source": [
        ""
      ],
      "execution_count": null,
      "outputs": []
    },
    {
      "cell_type": "markdown",
      "metadata": {
        "id": "SGIB53lcA8aK"
      },
      "source": [
        "## 3.3. QR-Factorization\n",
        "\n",
        "The attribute vectors are not necessarily orthogonoal. To obtain the projected vector $\\hat{Y}$ we need to construct and orthogonal basis for $col(\\tilde{D})$. \n",
        "\n",
        "><div>\n",
        "<img src=\"https://www.cs.montana.edu/~moralesluna/images/linear/projec.jpg\" width=\"400\"/>\n",
        "</div>\n",
        "\n",
        "We can construct a set of orthogonal basis vectors $U_1, U_2, ..., U_n$ for $col(\\tilde{D})$ using the *Gram-Schmidt orthogonalization* method:\n",
        "\n",
        "> $ U_0 = X_0$\n",
        "\n",
        "> $ U_1 = X_1 - p_{10}\\cdot U_0$\n",
        "\n",
        "> $ U_2 = X_2 - p_{20}\\cdot U_0 - p_{21}\\cdot U_1$\n",
        "\n",
        "> ...\n",
        "\n",
        "> $U_d = X_n - p_{n0}\\cdot U_0 - p_{n1}\\cdot U_1 - ... - p_{n,n-1}\\cdot U_{n-1}$\n",
        "\n",
        "where $p_{ji} = proj_{U_i}(X_j) = \\frac{X_j^TU_i}{||U_i||^2}$ represents the scalar projection of $X_j$ onto the basis vector $U_i$.\n",
        "\n",
        "Now we can rearrange the previous set of equations:\n",
        "\n",
        "> $ X_0 = U_0$\n",
        "\n",
        "> $ X_1 = p_{10}\\cdot U_0 + U_1$\n",
        "\n",
        "> $ X_2 = p_{20}\\cdot U_0 + p_{21}\\cdot U_1 + U_2$\n",
        "\n",
        "> ...\n",
        "\n",
        "> $X_d = p_{n0}\\cdot U_0 + p_{n1}\\cdot U_1 - ... + p_{n,n-1}\\cdot U_{n-1} + U_n$\n",
        "\n",
        "We can also combine all the equations in a matrix form, such that:\n",
        "\n",
        "> $\\tilde{D}=QR$, \n",
        "\n",
        "where:\n",
        "\n",
        "> $Q = \\begin{bmatrix}\n",
        "| & | & ... & |\\\\\n",
        "U_0 & U_1 & ... & U_n\\\\\n",
        "| & | & ... & |\\\\\n",
        "\\end{bmatrix}$\n",
        "\n",
        "and:\n",
        "\n",
        "> $R = \\begin{bmatrix}\n",
        "1 & p_{10} & p_{20} & ... & p_{n0}\\\\\n",
        "0 & 1 & p_{21} & ... & p_{n1}\\\\\n",
        "0 & 0 & 1 & ... & p_{n2}\\\\\n",
        "... & ... & ... & ... & ...\\\\\n",
        "0 & 0 & 0 & ... & 1\\\\\n",
        "\\end{bmatrix}$\n",
        "\n",
        "Finally, the estimated response variable $\\hat{Y}$ can be expressed as the sum of the projections of the observed response variable $Y$ onto each one of the vectors of the new orthogonal basis:  \n",
        "\n",
        "> $Y = proj_{U_0}(Y)\\cdot U_0 + proj_{U_1}(Y)\\cdot U_1 +  ... + proj_{U_n}(Y)\\cdot U_n$\n",
        "\n",
        "\n"
      ]
    },
    {
      "cell_type": "code",
      "metadata": {
        "id": "qAhRoRPjkBKV"
      },
      "source": [
        ""
      ],
      "execution_count": null,
      "outputs": []
    },
    {
      "cell_type": "markdown",
      "metadata": {
        "id": "yWntWj-xkIrP"
      },
      "source": [
        "## 3.4. Multiple Regression Algorithm\n",
        "\n",
        "**Note:** (Squared norms)\n",
        "\n",
        "> $Q^TQ = \\Delta = \\begin{bmatrix}\n",
        "||U_0||^2 & 0 & 0 & ... & 0\\\\\n",
        "0 & ||U_1||^2 & 0 & ... & 0\\\\\n",
        "0 & 0 & ||U_2||^2 & ... & 0\\\\\n",
        "... & ... & ... & ... & ...\\\\\n",
        "0 & 0 & 0 & ... & ||U_n||^2\\\\\n",
        "\\end{bmatrix}$ \n",
        "\n",
        "In order to solve the regression problem, we can simply use the expression we previously found and replace it using our new basis taking into account that $\\tilde{D} = QR$:\n",
        "\n",
        "> $\\tilde{\\texttt{w}}= (\\tilde{D}^T\\tilde{D})^{-1}\\tilde{D}^TY$\n",
        "\n",
        "> $R\\tilde{\\texttt{w}}= (\\Delta)^{-1}Q^TY$\n",
        "\n",
        "Then, given that $\\hat{Y} = \\tilde{D} \\tilde{\\texttt{w}}$, we have:\n",
        "\n",
        "> $\\hat{Y} = Q((\\Delta)^{-1}Q^TY)$\n",
        "\n",
        "\n",
        "Pseudocode:\n",
        "\n",
        "```\n",
        "1. Dt <- (1  D)  # Augment the dataset\n",
        "2. {Q, R} = QR-factorization(Dt)\n",
        "3. Calculate Delta^-1\n",
        "4. Yt = Q (Delta^-1 . Q^T . Y)\n",
        "```\n",
        "\n"
      ]
    },
    {
      "cell_type": "markdown",
      "metadata": {
        "id": "zd4MOHPSAZRP"
      },
      "source": [
        "## 3.5. Multiple Regression Algorithm: Example\n",
        "\n",
        "Let's repeat the same problem we saw before but now let's apply the QR-factorization and geometric approach.\n",
        "\n",
        "First, we will perform the QR-factorization using the ```Dt``` variable we used before to store our augmented dataset."
      ]
    },
    {
      "cell_type": "code",
      "metadata": {
        "id": "Oet8lSfbkC9q",
        "outputId": "60b0a2dc-8d12-42f2-9c00-f29641d5708b",
        "colab": {
          "base_uri": "https://localhost:8080/"
        }
      },
      "source": [
        "# QR-factorization\n",
        "Q, R = np.linalg.qr(Dt)\n",
        "\n",
        "print('Shape of matrix Q: ' + str(Q.shape))\n",
        "print('Shape of matrix R: ' + str(R.shape))"
      ],
      "execution_count": null,
      "outputs": [
        {
          "output_type": "stream",
          "text": [
            "Shape of matrix Q: (150, 3)\n",
            "Shape of matrix R: (3, 3)\n"
          ],
          "name": "stdout"
        }
      ]
    },
    {
      "cell_type": "markdown",
      "metadata": {
        "id": "Y2Thh_U7VDkm"
      },
      "source": [
        "Now we can calculate $\\Delta$ using $Q$:"
      ]
    },
    {
      "cell_type": "code",
      "metadata": {
        "id": "2It367j2VNkt",
        "outputId": "56d445b7-090d-46e3-b0f9-ee6b3d4b205b",
        "colab": {
          "base_uri": "https://localhost:8080/"
        }
      },
      "source": [
        "# Calculate Delta\n",
        "Delta = Q.T.dot(Q)\n",
        "print(Delta)"
      ],
      "execution_count": null,
      "outputs": [
        {
          "output_type": "stream",
          "text": [
            "[[ 1.00000000e+00 -2.16422835e-16  5.93091449e-17]\n",
            " [-2.16422835e-16  1.00000000e+00  1.75973941e-17]\n",
            " [ 5.93091449e-17  1.75973941e-17  1.00000000e+00]]\n"
          ],
          "name": "stdout"
        }
      ]
    },
    {
      "cell_type": "markdown",
      "metadata": {
        "id": "pUP_e7kJXYhb"
      },
      "source": [
        "Finally, we have everything we need to use the equation $\\hat{Y} = Q((\\Delta)^{-1}Q^TY)$:"
      ]
    },
    {
      "cell_type": "code",
      "metadata": {
        "id": "7arDBZt_XgIE",
        "outputId": "7883d8ee-a412-4392-b93b-a46b15567d5b",
        "colab": {
          "base_uri": "https://localhost:8080/"
        }
      },
      "source": [
        "# Estimated parameter vector\n",
        "Yt = Q.dot(np.linalg.inv(Delta)).dot(Q.T.dot(Y))\n",
        "print(\"Printing the first 10 estimated values of Yt: \")\n",
        "print(Yt[:10])"
      ],
      "execution_count": null,
      "outputs": [
        {
          "output_type": "stream",
          "text": [
            "Printing the first 10 estimated values of Yt: \n",
            "[0.2008197  0.21726327 0.18876922 0.28686622 0.20904148 0.31096719\n",
            " 0.24192861 0.25397909 0.25837218 0.26220088]\n"
          ],
          "name": "stdout"
        }
      ]
    }
  ]
}